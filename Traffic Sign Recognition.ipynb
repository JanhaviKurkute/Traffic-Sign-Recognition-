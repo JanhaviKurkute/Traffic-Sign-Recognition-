{
 "cells": [
  {
   "cell_type": "code",
   "execution_count": 1,
   "id": "8ccd8a3f",
   "metadata": {},
   "outputs": [
    {
     "name": "stderr",
     "output_type": "stream",
     "text": [
      "C:\\Users\\91845\\anaconda3\\lib\\site-packages\\scipy\\__init__.py:146: UserWarning: A NumPy version >=1.16.5 and <1.23.0 is required for this version of SciPy (detected version 1.26.4\n",
      "  warnings.warn(f\"A NumPy version >={np_minversion} and <{np_maxversion}\"\n"
     ]
    },
    {
     "name": "stdout",
     "output_type": "stream",
     "text": [
      "WARNING:tensorflow:From C:\\Users\\91845\\anaconda3\\lib\\site-packages\\keras\\src\\losses.py:2976: The name tf.losses.sparse_softmax_cross_entropy is deprecated. Please use tf.compat.v1.losses.sparse_softmax_cross_entropy instead.\n",
      "\n"
     ]
    }
   ],
   "source": [
    "import numpy as np \n",
    "import pandas as pd \n",
    "import matplotlib.pyplot as plt\n",
    "import cv2\n",
    "import tensorflow as tf\n",
    "from PIL import Image\n",
    "import os\n",
    "os.chdir('C:/Users/91845/OneDrive/Desktop/Design Project')\n",
    "from sklearn.model_selection import train_test_split\n",
    "from keras.utils import to_categorical\n",
    "from keras.models import Sequential, load_model\n",
    "from keras.layers import Conv2D, MaxPool2D, Dense, Flatten, Dropout"
   ]
  },
  {
   "cell_type": "code",
   "execution_count": 2,
   "id": "48ff0e8d",
   "metadata": {},
   "outputs": [],
   "source": [
    "data = []\n",
    "labels = []\n",
    "# We have 43 Classes\n",
    "classes = 43\n",
    "cur_path = os.getcwd()"
   ]
  },
  {
   "cell_type": "code",
   "execution_count": 3,
   "id": "3b54e27e",
   "metadata": {},
   "outputs": [
    {
     "data": {
      "text/plain": [
       "'C:\\\\Users\\\\91845\\\\OneDrive\\\\Desktop\\\\Design Project'"
      ]
     },
     "execution_count": 3,
     "metadata": {},
     "output_type": "execute_result"
    }
   ],
   "source": [
    "cur_path"
   ]
  },
  {
   "cell_type": "code",
   "execution_count": 4,
   "id": "e624a91d",
   "metadata": {},
   "outputs": [],
   "source": [
    "for i in range(classes):\n",
    "    path = os.path.join(cur_path,'train',str(i))\n",
    "    images = os.listdir(path)\n",
    "    for a in images:\n",
    "        try:\n",
    "            image = Image.open(path + '\\\\'+ a)\n",
    "            image = image.resize((30,30))\n",
    "            image = np.array(image)\n",
    "            data.append(image)\n",
    "            labels.append(i)\n",
    "        except Exception as e:\n",
    "            print(e)"
   ]
  },
  {
   "cell_type": "code",
   "execution_count": 5,
   "id": "0d0f2edd",
   "metadata": {},
   "outputs": [],
   "source": [
    "data = np.array(data)\n",
    "labels = np.array(labels)"
   ]
  },
  {
   "cell_type": "code",
   "execution_count": 6,
   "id": "a6ba6f98",
   "metadata": {},
   "outputs": [],
   "source": [
    "# os.mkdir('training')\n",
    "\n",
    "np.save('./training/data',data)\n",
    "np.save('./training/target',labels)"
   ]
  },
  {
   "cell_type": "code",
   "execution_count": 7,
   "id": "b654ad2e",
   "metadata": {},
   "outputs": [],
   "source": [
    "data=np.load('./training/data.npy')\n",
    "labels=np.load('./training/target.npy')"
   ]
  },
  {
   "cell_type": "code",
   "execution_count": 8,
   "id": "a4f3cc6a",
   "metadata": {},
   "outputs": [
    {
     "name": "stdout",
     "output_type": "stream",
     "text": [
      "(39209, 30, 30, 3) (39209,)\n"
     ]
    }
   ],
   "source": [
    "print(data.shape, labels.shape)\n"
   ]
  },
  {
   "cell_type": "code",
   "execution_count": 9,
   "id": "5e371316",
   "metadata": {},
   "outputs": [],
   "source": [
    "X_train, X_test, y_train, y_test = train_test_split(data, labels, test_size=0.2, random_state=0)"
   ]
  },
  {
   "cell_type": "code",
   "execution_count": 10,
   "id": "78da5330",
   "metadata": {},
   "outputs": [
    {
     "name": "stdout",
     "output_type": "stream",
     "text": [
      "(31367, 30, 30, 3) (7842, 30, 30, 3) (31367,) (7842,)\n"
     ]
    }
   ],
   "source": [
    "print(X_train.shape, X_test.shape, y_train.shape, y_test.shape)"
   ]
  },
  {
   "cell_type": "code",
   "execution_count": 11,
   "id": "54875436",
   "metadata": {},
   "outputs": [],
   "source": [
    "y_train = to_categorical(y_train, 43)\n",
    "y_test = to_categorical(y_test, 43)"
   ]
  },
  {
   "cell_type": "code",
   "execution_count": 12,
   "id": "26671bba",
   "metadata": {},
   "outputs": [
    {
     "name": "stdout",
     "output_type": "stream",
     "text": [
      "WARNING:tensorflow:From C:\\Users\\91845\\anaconda3\\lib\\site-packages\\keras\\src\\backend.py:873: The name tf.get_default_graph is deprecated. Please use tf.compat.v1.get_default_graph instead.\n",
      "\n",
      "WARNING:tensorflow:From C:\\Users\\91845\\anaconda3\\lib\\site-packages\\keras\\src\\layers\\pooling\\max_pooling2d.py:161: The name tf.nn.max_pool is deprecated. Please use tf.nn.max_pool2d instead.\n",
      "\n"
     ]
    }
   ],
   "source": [
    "model = Sequential()\n",
    "model.add(Conv2D(filters=32, kernel_size=(5,5), activation='relu', input_shape=X_train.shape[1:]))\n",
    "model.add(Conv2D(filters=32, kernel_size=(5,5), activation='relu'))\n",
    "model.add(MaxPool2D(pool_size=(2, 2)))\n",
    "model.add(Dropout(rate=0.25))\n",
    "model.add(Conv2D(filters=64, kernel_size=(3, 3), activation='relu'))\n",
    "model.add(Conv2D(filters=64, kernel_size=(3, 3), activation='relu'))\n",
    "model.add(MaxPool2D(pool_size=(2, 2)))\n",
    "model.add(Dropout(rate=0.25))\n",
    "model.add(Flatten())\n",
    "model.add(Dense(256, activation='relu'))\n",
    "model.add(Dropout(rate=0.5))\n",
    "# We have 43 classes that's why we have defined 43 in the dense\n",
    "model.add(Dense(43, activation='softmax'))"
   ]
  },
  {
   "cell_type": "code",
   "execution_count": 13,
   "id": "62e90be6",
   "metadata": {
    "scrolled": true
   },
   "outputs": [
    {
     "name": "stdout",
     "output_type": "stream",
     "text": [
      "WARNING:tensorflow:From C:\\Users\\91845\\anaconda3\\lib\\site-packages\\keras\\src\\optimizers\\__init__.py:309: The name tf.train.Optimizer is deprecated. Please use tf.compat.v1.train.Optimizer instead.\n",
      "\n"
     ]
    }
   ],
   "source": [
    "#Compilation of the model\n",
    "model.compile(loss='categorical_crossentropy', optimizer='adam', metrics=['accuracy'])"
   ]
  },
  {
   "cell_type": "code",
   "execution_count": 14,
   "id": "9d094117",
   "metadata": {
    "scrolled": true
   },
   "outputs": [
    {
     "name": "stdout",
     "output_type": "stream",
     "text": [
      "Epoch 1/20\n",
      "WARNING:tensorflow:From C:\\Users\\91845\\anaconda3\\lib\\site-packages\\keras\\src\\utils\\tf_utils.py:492: The name tf.ragged.RaggedTensorValue is deprecated. Please use tf.compat.v1.ragged.RaggedTensorValue instead.\n",
      "\n",
      "WARNING:tensorflow:From C:\\Users\\91845\\anaconda3\\lib\\site-packages\\keras\\src\\engine\\base_layer_utils.py:384: The name tf.executing_eagerly_outside_functions is deprecated. Please use tf.compat.v1.executing_eagerly_outside_functions instead.\n",
      "\n",
      "981/981 [==============================] - 29s 27ms/step - loss: 2.1079 - accuracy: 0.4640 - val_loss: 0.8379 - val_accuracy: 0.7902\n",
      "Epoch 2/20\n",
      "981/981 [==============================] - 29s 30ms/step - loss: 0.9218 - accuracy: 0.7284 - val_loss: 0.3096 - val_accuracy: 0.9176\n",
      "Epoch 3/20\n",
      "981/981 [==============================] - 30s 30ms/step - loss: 0.6108 - accuracy: 0.8168 - val_loss: 0.3376 - val_accuracy: 0.9100\n",
      "Epoch 4/20\n",
      "981/981 [==============================] - 29s 30ms/step - loss: 0.4528 - accuracy: 0.8648 - val_loss: 0.1569 - val_accuracy: 0.9550\n",
      "Epoch 5/20\n",
      "981/981 [==============================] - 29s 30ms/step - loss: 0.3763 - accuracy: 0.8899 - val_loss: 0.1256 - val_accuracy: 0.9684\n",
      "Epoch 6/20\n",
      "981/981 [==============================] - 29s 29ms/step - loss: 0.3223 - accuracy: 0.9076 - val_loss: 0.1082 - val_accuracy: 0.9716\n",
      "Epoch 7/20\n",
      "981/981 [==============================] - 29s 29ms/step - loss: 0.2825 - accuracy: 0.9177 - val_loss: 0.0986 - val_accuracy: 0.9711\n",
      "Epoch 8/20\n",
      "981/981 [==============================] - 30s 30ms/step - loss: 0.2616 - accuracy: 0.9249 - val_loss: 0.1268 - val_accuracy: 0.9643\n",
      "Epoch 9/20\n",
      "981/981 [==============================] - 26s 27ms/step - loss: 0.2419 - accuracy: 0.9309 - val_loss: 0.0699 - val_accuracy: 0.9821\n",
      "Epoch 10/20\n",
      "981/981 [==============================] - 26s 26ms/step - loss: 0.2434 - accuracy: 0.9322 - val_loss: 0.0585 - val_accuracy: 0.9838\n",
      "Epoch 11/20\n",
      "981/981 [==============================] - 28s 29ms/step - loss: 0.2144 - accuracy: 0.9422 - val_loss: 0.0550 - val_accuracy: 0.9864\n",
      "Epoch 12/20\n",
      "981/981 [==============================] - 29s 29ms/step - loss: 0.1964 - accuracy: 0.9455 - val_loss: 0.0525 - val_accuracy: 0.9862\n",
      "Epoch 13/20\n",
      "981/981 [==============================] - 27s 28ms/step - loss: 0.2060 - accuracy: 0.9438 - val_loss: 0.0859 - val_accuracy: 0.9792\n",
      "Epoch 14/20\n",
      "981/981 [==============================] - 27s 27ms/step - loss: 0.2049 - accuracy: 0.9448 - val_loss: 0.0668 - val_accuracy: 0.9830\n",
      "Epoch 15/20\n",
      "981/981 [==============================] - 26s 26ms/step - loss: 0.1894 - accuracy: 0.9483 - val_loss: 0.0591 - val_accuracy: 0.9847\n",
      "Epoch 16/20\n",
      "981/981 [==============================] - 25s 26ms/step - loss: 0.1795 - accuracy: 0.9522 - val_loss: 0.0465 - val_accuracy: 0.9876\n",
      "Epoch 17/20\n",
      "981/981 [==============================] - 25s 26ms/step - loss: 0.2060 - accuracy: 0.9467 - val_loss: 0.0494 - val_accuracy: 0.9887\n",
      "Epoch 18/20\n",
      "981/981 [==============================] - 29s 29ms/step - loss: 0.1887 - accuracy: 0.9497 - val_loss: 0.1871 - val_accuracy: 0.9408\n",
      "Epoch 19/20\n",
      "981/981 [==============================] - 32s 32ms/step - loss: 0.2093 - accuracy: 0.9476 - val_loss: 0.0647 - val_accuracy: 0.9834\n",
      "Epoch 20/20\n",
      "981/981 [==============================] - 30s 31ms/step - loss: 0.1770 - accuracy: 0.9535 - val_loss: 0.0541 - val_accuracy: 0.9869\n"
     ]
    }
   ],
   "source": [
    "epochs = 20\n",
    "history = model.fit(X_train, y_train, batch_size=32, epochs=epochs, validation_data=(X_test, y_test))"
   ]
  },
  {
   "cell_type": "code",
   "execution_count": 15,
   "id": "9c85fef2",
   "metadata": {},
   "outputs": [
    {
     "data": {
      "image/png": "[encoded data removed]",
      "text/plain": [
       "<Figure size 432x288 with 1 Axes>"
      ]
     },
     "metadata": {
      "needs_background": "light"
     },
     "output_type": "display_data"
    }
   ],
   "source": [
    "# accuracy \n",
    "plt.figure(0)\n",
    "plt.plot(history.history['accuracy'], label='training accuracy')\n",
    "plt.plot(history.history['val_accuracy'], label='val accuracy')\n",
    "plt.title('Accuracy')\n",
    "plt.xlabel('epochs')\n",
    "plt.ylabel('accuracy')\n",
    "plt.legend()\n",
    "plt.show()"
   ]
  },
  {
   "cell_type": "code",
   "execution_count": 16,
   "id": "39beaebf",
   "metadata": {},
   "outputs": [
    {
     "data": {
      "image/png": "[encoded data removed]",
      "text/plain": [
       "<Figure size 432x288 with 1 Axes>"
      ]
     },
     "metadata": {
      "needs_background": "light"
     },
     "output_type": "display_data"
    }
   ],
   "source": [
    "# Loss\n",
    "plt.plot(history.history['loss'], label='training loss')\n",
    "plt.plot(history.history['val_loss'], label='val loss')\n",
    "plt.title('Loss')\n",
    "plt.xlabel('epochs')\n",
    "plt.ylabel('loss')\n",
    "plt.legend()\n",
    "plt.show()"
   ]
  },
  {
   "cell_type": "code",
   "execution_count": 17,
   "id": "320b028f",
   "metadata": {},
   "outputs": [],
   "source": [
    "def testing(testcsv):\n",
    "    y_test = pd.read_csv(testcsv)\n",
    "    label = y_test[\"ClassId\"].values\n",
    "    imgs = y_test[\"Path\"].values\n",
    "    data=[]\n",
    "    for img in imgs:\n",
    "        image = Image.open(img)\n",
    "        image = image.resize((30,30))\n",
    "        data.append(np.array(image))\n",
    "    X_test=np.array(data)\n",
    "    return X_test,label"
   ]
  },
  {
   "cell_type": "code",
   "execution_count": 18,
   "id": "a830f497",
   "metadata": {},
   "outputs": [],
   "source": [
    "X_test, label = testing('Test.csv')"
   ]
  },
  {
   "cell_type": "code",
   "execution_count": 19,
   "id": "e0297d3c",
   "metadata": {},
   "outputs": [
    {
     "name": "stdout",
     "output_type": "stream",
     "text": [
      "395/395 [==============================] - 4s 11ms/step\n"
     ]
    }
   ],
   "source": [
    "#Y_pred = model.predict(X_test)\n",
    "#Y_pred\n",
    "\n",
    "# Assuming model is your Sequential model\n",
    "predictions = model.predict(X_test)\n",
    "Y_pred = np.argmax(predictions, axis=1)\n"
   ]
  },
  {
   "cell_type": "code",
   "execution_count": 20,
   "id": "9a7690e0",
   "metadata": {},
   "outputs": [
    {
     "name": "stdout",
     "output_type": "stream",
     "text": [
      "0.9571654790182106\n"
     ]
    }
   ],
   "source": [
    "from sklearn.metrics import accuracy_score\n",
    "print(accuracy_score(label, Y_pred))"
   ]
  },
  {
   "cell_type": "code",
   "execution_count": 21,
   "id": "0c643924",
   "metadata": {},
   "outputs": [
    {
     "name": "stderr",
     "output_type": "stream",
     "text": [
      "C:\\Users\\91845\\anaconda3\\lib\\site-packages\\keras\\src\\engine\\training.py:3103: UserWarning: You are saving your model as an HDF5 file via `model.save()`. This file format is considered legacy. We recommend using instead the native Keras format, e.g. `model.save('my_model.keras')`.\n",
      "  saving_api.save_model(\n"
     ]
    }
   ],
   "source": [
    "model.save(\"./training/TSR.h5\")"
   ]
  },
  {
   "cell_type": "code",
   "execution_count": 22,
   "id": "cb56efe3",
   "metadata": {},
   "outputs": [],
   "source": [
    "import os\n",
    "os.chdir(r'C:/Users/91845/OneDrive/Desktop/Design Project')\n",
    "from keras.models import load_model\n",
    "model = load_model('./training/TSR.h5')"
   ]
  },
  {
   "cell_type": "code",
   "execution_count": 23,
   "id": "b886b402",
   "metadata": {},
   "outputs": [],
   "source": [
    "# Classes of trafic signs\n",
    "classes = { 0:'Speed limit (20km/h)',\n",
    "            1:'Speed limit (30km/h)', \n",
    "            2:'Speed limit (50km/h)', \n",
    "            3:'Speed limit (60km/h)', \n",
    "            4:'Speed limit (70km/h)', \n",
    "            5:'Speed limit (80km/h)', \n",
    "            6:'End of speed limit (80km/h)', \n",
    "            7:'Speed limit (100km/h)', \n",
    "            8:'Speed limit (120km/h)', \n",
    "            9:'No passing', \n",
    "            10:'No passing veh over 3.5 tons', \n",
    "            11:'Right-of-way at intersection', \n",
    "            12:'Priority road', \n",
    "            13:'Yield', \n",
    "            14:'Stop', \n",
    "            15:'No vehicles', \n",
    "            16:'Veh > 3.5 tons prohibited', \n",
    "            17:'No entry', \n",
    "            18:'General caution', \n",
    "            19:'Dangerous curve left', \n",
    "            20:'Dangerous curve right', \n",
    "            21:'Double curve', \n",
    "            22:'Bumpy road', \n",
    "            23:'Slippery road', \n",
    "            24:'Road narrows on the right', \n",
    "            25:'Road work', \n",
    "            26:'Traffic signals', \n",
    "            27:'Pedestrians', \n",
    "            28:'Children crossing', \n",
    "            29:'Bicycles crossing', \n",
    "            30:'Beware of ice/snow',\n",
    "            31:'Wild animals crossing', \n",
    "            32:'End speed + passing limits', \n",
    "            33:'Turn right ahead', \n",
    "            34:'Turn left ahead', \n",
    "            35:'Ahead only', \n",
    "            36:'Go straight or right', \n",
    "            37:'Go straight or left', \n",
    "            38:'Keep right', \n",
    "            39:'Keep left', \n",
    "            40:'Roundabout mandatory', \n",
    "            41:'End of no passing', \n",
    "            42:'End no passing veh > 3.5 tons' }"
   ]
  },
  {
   "cell_type": "code",
   "execution_count": 24,
   "id": "0142f648",
   "metadata": {},
   "outputs": [],
   "source": [
    "from PIL import Image\n",
    "import numpy as np\n",
    "import matplotlib.pyplot as plt\n",
    "def test_on_img(img):\n",
    "    data=[]\n",
    "    image = Image.open(img)\n",
    "    image = image.resize((30,30))\n",
    "    data.append(np.array(image))\n",
    "    X_test=np.array(data)\n",
    "    Y_pred = model.predict(X_test)\n",
    "    return image,Y_pred"
   ]
  },
  {
   "cell_type": "code",
   "execution_count": 27,
   "id": "1d99dec6",
   "metadata": {},
   "outputs": [
    {
     "name": "stdout",
     "output_type": "stream",
     "text": [
      "1/1 [==============================] - 0s 106ms/step\n",
      "Predicted traffic sign is: General caution\n"
     ]
    },
    {
     "data": {
      "image/png": "[encoded data removed]",
      "text/plain": [
       "<Figure size 432x288 with 1 Axes>"
      ]
     },
     "metadata": {
      "needs_background": "light"
     },
     "output_type": "display_data"
    }
   ],
   "source": [
    "plot, prediction = test_on_img(r'C:/Users/91845/OneDrive/Desktop/Design Project/Test/00331.png')\n",
    "\n",
    "# Find the index of the maximum value in the prediction array\n",
    "predicted_class_index = np.argmax(prediction)\n",
    "\n",
    "# Get the predicted class label\n",
    "predicted_class = classes[predicted_class_index]\n",
    "\n",
    "print(\"Predicted traffic sign is:\", predicted_class)\n",
    "plt.imshow(plot)\n",
    "plt.show()\n"
   ]
  },
  {
   "cell_type": "code",
   "execution_count": 31,
   "id": "93d42748",
   "metadata": {},
   "outputs": [
    {
     "data": {
      "application/vnd.jupyter.widget-view+json": {
       "model_id": "d8bcbe7c24b44b67ad0d2fad3f96114b",
       "version_major": 2,
       "version_minor": 0
      },
      "text/plain": [
       "FileUpload(value={}, accept='image/*', description='Upload')"
      ]
     },
     "metadata": {},
     "output_type": "display_data"
    },
    {
     "data": {
      "application/vnd.jupyter.widget-view+json": {
       "model_id": "2fd896939044464d8ec7f29f13d71fa6",
       "version_major": 2,
       "version_minor": 0
      },
      "text/plain": [
       "Text(value='')"
      ]
     },
     "metadata": {},
     "output_type": "display_data"
    },
    {
     "name": "stdout",
     "output_type": "stream",
     "text": [
      "1/1 [==============================] - 0s 79ms/step\n"
     ]
    },
    {
     "data": {
      "image/png": "[encoded data removed]",
      "text/plain": [
       "<Figure size 432x288 with 1 Axes>"
      ]
     },
     "metadata": {
      "needs_background": "light"
     },
     "output_type": "display_data"
    },
    {
     "name": "stdout",
     "output_type": "stream",
     "text": [
      "1/1 [==============================] - 0s 56ms/step\n"
     ]
    },
    {
     "data": {
      "image/png": "[encoded data removed]",
      "text/plain": [
       "<Figure size 432x288 with 1 Axes>"
      ]
     },
     "metadata": {
      "needs_background": "light"
     },
     "output_type": "display_data"
    }
   ],
   "source": [
    "import ipywidgets as widgets\n",
    "from IPython.display import display, display_markdown\n",
    "from PIL import Image\n",
    "import io\n",
    "import numpy as np\n",
    "import matplotlib.pyplot as plt\n",
    "\n",
    "# Load the model\n",
    "from keras.models import load_model\n",
    "model = load_model('C:/Users/91845/OneDrive/Desktop/Design Project/training/TSR.h5')\n",
    "\n",
    "# Define the classes\n",
    "classes = {0: 'Speed limit (20km/h)', 1: 'Speed limit (30km/h)', 2: 'Speed limit (50km/h)', \n",
    "           3: 'Speed limit (60km/h)', 4: 'Speed limit (70km/h)', 5: 'Speed limit (80km/h)', \n",
    "           6: 'End of speed limit (80km/h)', 7: 'Speed limit (100km/h)', 8: 'Speed limit (120km/h)', \n",
    "           9: 'No passing', 10: 'No passing veh over 3.5 tons', 11: 'Right-of-way at intersection', \n",
    "           12: 'Priority road', 13: 'Yield', 14: 'Stop', 15: 'No vehicles', \n",
    "           16: 'Veh > 3.5 tons prohibited', 17: 'No entry', 18: 'General caution', \n",
    "           19: 'Dangerous curve left', 20: 'Dangerous curve right', 21: 'Double curve', \n",
    "           22: 'Bumpy road', 23: 'Slippery road', 24: 'Road narrows on the right', \n",
    "           25: 'Road work', 26: 'Traffic signals', 27: 'Pedestrians', 28: 'Children crossing', \n",
    "           29: 'Bicycles crossing', 30: 'Beware of ice/snow', 31: 'Wild animals crossing', \n",
    "           32: 'End speed + passing limits', 33: 'Turn right ahead', 34: 'Turn left ahead', \n",
    "           35: 'Ahead only', 36: 'Go straight or right', 37: 'Go straight or left', \n",
    "           38: 'Keep right', 39: 'Keep left', 40: 'Roundabout mandatory', \n",
    "           41: 'End of no passing', 42: 'End no passing veh > 3.5 tons'}\n",
    "\n",
    "# Function to recognize traffic sign\n",
    "def recognize_traffic_sign(image):\n",
    "    image = image.resize((30, 30))\n",
    "    image_np = np.array(image)\n",
    "    X_test = np.expand_dims(image_np, axis=0)\n",
    "    prediction = model.predict(X_test)\n",
    "    predicted_class_index = np.argmax(prediction)\n",
    "    predicted_class = classes[predicted_class_index]\n",
    "    return predicted_class, image\n",
    "\n",
    "# Function to handle image upload and recognition\n",
    "def handle_image_upload(change):\n",
    "    uploaded_image = list(change['new'].values())[0]['content']\n",
    "    img = Image.open(io.BytesIO(uploaded_image))\n",
    "    recognized_sign, uploaded_img = recognize_traffic_sign(img)\n",
    "    output_widget.value = f\"Recognized Traffic Sign: {recognized_sign}\"\n",
    "    # Display the uploaded image\n",
    "    plt.imshow(uploaded_img)\n",
    "    plt.axis('off')\n",
    "    plt.show()\n",
    "\n",
    "# Create file upload widget\n",
    "upload_widget = widgets.FileUpload(\n",
    "    accept='image/*',  \n",
    "    multiple=False  \n",
    ")\n",
    "\n",
    "# Create output widget to display recognized sign\n",
    "output_widget = widgets.Text()\n",
    "\n",
    "# Link image upload widget to recognition function\n",
    "upload_widget.observe(handle_image_upload, names='value')\n",
    "\n",
    "# Display widgets\n",
    "display(upload_widget)\n",
    "display(output_widget)\n"
   ]
  },
  {
   "cell_type": "code",
   "execution_count": null,
   "id": "8a8a29aa",
   "metadata": {},
   "outputs": [],
   "source": []
  }
 ],
 "metadata": {
  "kernelspec": {
   "display_name": "Python 3 (ipykernel)",
   "language": "python",
   "name": "python3"
  },
  "language_info": {
   "codemirror_mode": {
    "name": "ipython",
    "version": 3
   },
   "file_extension": ".py",
   "mimetype": "text/x-python",
   "name": "python",
   "nbconvert_exporter": "python",
   "pygments_lexer": "ipython3",
   "version": "3.9.7"
  }
 },
 "nbformat": 4,
 "nbformat_minor": 5
}
